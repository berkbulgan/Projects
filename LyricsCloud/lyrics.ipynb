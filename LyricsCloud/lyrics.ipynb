{
 "cells": [
  {
   "cell_type": "code",
   "execution_count": 96,
   "metadata": {},
   "outputs": [],
   "source": [
    "from bs4 import BeautifulSoup\n",
    "import requests\n",
    "import json\n",
    "\n",
    "agent = 'Mozilla/5.0 (Windows NT 6.0; WOW64; rv:24.0) \\\n",
    "        Gecko/20100101 Firefox/24.0'\n",
    "headers = {'User-Agent': agent}\n",
    "base = \"https://www.azlyrics.com/\"\n",
    "\n",
    "\n",
    "artist = 'kendrick lamar'\n",
    "artist = artist.lower().replace(\" \", \"\")\n",
    "first_char = artist[0]\n",
    "url = base + first_char + \"/\" + artist + \".html\"\n",
    "req = requests.get(url, headers=headers)\n",
    "artist = {\n",
    "    'artist': artist,\n",
    "    'albums': {}\n",
    "}\n",
    "\n",
    "soup = BeautifulSoup(req.content, 'html.parser')\n",
    "all_albums = soup.find('div', id='listAlbum')\n",
    "all_songs = all_albums.find_all('div', class_='listalbum-item')\n",
    "all_links = []\n",
    "for x in range(len(all_songs)):\n",
    "    temp = all_songs[x].find('a').get('href')\n",
    "    if temp[0] == \".\" and temp[1] == \".\":\n",
    "        all_links.append(base + temp[3:])"
   ]
  },
  {
   "cell_type": "code",
   "execution_count": 102,
   "metadata": {},
   "outputs": [],
   "source": [
    "req = requests.get(all_links[33], headers=headers)\n",
    "soup = BeautifulSoup(req.content, \"html.parser\")\n",
    "l = soup.find_all(\"div\", attrs={\"class\": None, \"id\": None})\n",
    "l = [x.getText() for x in l]"
   ]
  },
  {
   "cell_type": "code",
   "execution_count": 103,
   "metadata": {},
   "outputs": [],
   "source": [
    "l = str(l)"
   ]
  },
  {
   "cell_type": "code",
   "execution_count": 126,
   "metadata": {},
   "outputs": [],
   "source": [
    "l = l.replace('\\\\n', ' ').replace('\\\\r', '')"
   ]
  },
  {
   "cell_type": "code",
   "execution_count": 125,
   "metadata": {},
   "outputs": [
    {
     "data": {
      "text/plain": [
       "'[\"  Fuck that 8 doobies to the face Fuck that 12 bottles in the case Nigga, fuck that 2 pills and a half weight Nigga, fuck that Got a high tolerance When your age don\\'t exist  Man, I swear My nigga tripping off the shit again Pick him up, then I set him in Cold water, then I order someone to bring him vicodin Hope they take the pain away From the feeling that he feel today You know when you part of section 80 And you feeling like no one can relate Cause you are, you are A loner, loner Marijuana, endorphins Make you stronger, stronger I\\'m in the house party tripping off My generation sipping cough syrup like its water Never no pancakes in the kitchen Man, no wonder our lives is caught up In the daily superstition That the world is bout to end Who gives a fuck? We never do listen Unless it comes with an 808 A melody and some hoes PlayStation and some drank Technology bought my soul Looking around and all I see Is a big crowd, that\\'s product of me And they probably relatives Relevant for a rebel\\'s dream Yep, the president is black She black too Purple label on her back But that tab Is light blue she take it straight to the head Then she look at me She got ADHD  8 doobies to the face Fuck that 12 bottles in the case Nigga, fuck that 2 pills and a half weight Nigga, fuck that Got a high tolerance When your age don\\'t exist  Like whoa oh oh whoa Like whoa oh oh whoa Like whoa oh oh whoa Like whoa oh oh whoa Don\\'t got a limit just gimme some more with it Don\\'t got a limit just gimme some more with it They always told me ADHD did it  And then she started And then she started Feeling herself like no on else in this apartment Beg you pardon Oh, I rap, baby. How old are you? She say 22, I say 23 OK then we all crack babies Damn, why you say that? She said where my drink at? I\\'m a tell you later, just tell your neighbors Have the police relax I stood up, shut the blinds Closed the screen, jumbotron Made it to the back, where she reside Then she said, read between the lines Yep, hope that I get close enough When the lights turn down And the fact that she just might open up When the new flow start to drown Her body and I, know the both of us really deep in the move now It\\'s nothing we can do now Somebody walked in with a pound Of that Bay Area kush She looked at me then looked At it, then she grabbed it Then she said, get it understood You know why we crack babies Because we born in the 80s That ADHD crazy  Fuck that 8 doobies to the face Fuck that 12 bottles in the case Nigga, fuck that 2 pills and a half weight Nigga, fuck that Got a high tolerance When your age don\\'t exist  Like whoa oh oh whoa Like whoa oh oh whoa Like whoa oh oh whoa Like whoa oh oh whoa Don\\'t got a limit just gimme some more with it Don\\'t got a limit just gimme some more with it They always told me ADHD did it  You can have all my shine I\\'ll give you the light Double cup, deuce, four, six Just mix it in Sprite Ecstasy, \\'shrooms, blow, dro, hoes Whatever you like You can have all my shine I\\'ll give you the light \"]'"
      ]
     },
     "execution_count": 125,
     "metadata": {},
     "output_type": "execute_result"
    }
   ],
   "source": []
  },
  {
   "cell_type": "code",
   "execution_count": null,
   "metadata": {},
   "outputs": [],
   "source": []
  }
 ],
 "metadata": {
  "kernelspec": {
   "display_name": "Python 3",
   "language": "python",
   "name": "python3"
  },
  "language_info": {
   "codemirror_mode": {
    "name": "ipython",
    "version": 3
   },
   "file_extension": ".py",
   "mimetype": "text/x-python",
   "name": "python",
   "nbconvert_exporter": "python",
   "pygments_lexer": "ipython3",
   "version": "3.8.5"
  }
 },
 "nbformat": 4,
 "nbformat_minor": 4
}
